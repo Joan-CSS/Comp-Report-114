{
 "cells": [
  {
   "cell_type": "markdown",
   "id": "dde6b9ec",
   "metadata": {},
   "source": [
    "for letter in \"Helo, world \" : \n",
    "    print(letter)\n"
   ]
  },
  {
   "cell_type": "code",
   "execution_count": 16,
   "id": "337d3bd8",
   "metadata": {},
   "outputs": [
    {
     "ename": "IndentationError",
     "evalue": "unexpected indent (<ipython-input-16-4c9242aa46d8>, line 5)",
     "output_type": "error",
     "traceback": [
      "\u001b[0;36m  File \u001b[0;32m\"<ipython-input-16-4c9242aa46d8>\"\u001b[0;36m, line \u001b[0;32m5\u001b[0m\n\u001b[0;31m    Two strings are only anagrams of each other if all conditions below are met:\u001b[0m\n\u001b[0m    ^\u001b[0m\n\u001b[0;31mIndentationError\u001b[0m\u001b[0;31m:\u001b[0m unexpected indent\n"
     ]
    }
   ],
   "source": [
    "# PROBLEM 1 \n",
    "### Given two strings (string_a and string_b) let's check wheter or not they are anagrams of each other given the followin\n",
    "criteria;\n",
    "\n",
    " Two strings are only anagrams of each other if all conditions below are met:\n",
    "> *they must be exactly the same length.\n",
    "> *They must use exactly the same characters (no more, no less).\n",
    "Example: cars and scar, heart and earth, etc. \n"
   ]
  },
  {
   "cell_type": "code",
   "execution_count": 27,
   "id": "681ef6f4",
   "metadata": {},
   "outputs": [
    {
     "ename": "NameError",
     "evalue": "name 'string' is not defined",
     "output_type": "error",
     "traceback": [
      "\u001b[0;31m---------------------------------------------------------------------------\u001b[0m",
      "\u001b[0;31mNameError\u001b[0m                                 Traceback (most recent call last)",
      "\u001b[0;32m<ipython-input-27-534bd9b0308a>\u001b[0m in \u001b[0;36m<module>\u001b[0;34m\u001b[0m\n\u001b[0;32m----> 1\u001b[0;31m \u001b[0mis_anagram\u001b[0m\u001b[0;34m(\u001b[0m\u001b[0;34m\"cars\"\u001b[0m\u001b[0;34m,\u001b[0m\u001b[0;34m\"scar\"\u001b[0m\u001b[0;34m)\u001b[0m\u001b[0;34m\u001b[0m\u001b[0;34m\u001b[0m\u001b[0m\n\u001b[0m",
      "\u001b[0;32m<ipython-input-26-2de2e54bc87a>\u001b[0m in \u001b[0;36mis_anagram\u001b[0;34m(string_a, string_b)\u001b[0m\n\u001b[1;32m      4\u001b[0m     \u001b[0mchar_times_a\u001b[0m \u001b[0;34m=\u001b[0m \u001b[0mdict\u001b[0m\u001b[0;34m(\u001b[0m\u001b[0;34m)\u001b[0m                                  \u001b[0;31m# Let's use two dictionaries to count\u001b[0m\u001b[0;34m\u001b[0m\u001b[0;34m\u001b[0m\u001b[0m\n\u001b[1;32m      5\u001b[0m     \u001b[0mchar_times_b\u001b[0m \u001b[0;34m=\u001b[0m \u001b[0mdict\u001b[0m\u001b[0;34m(\u001b[0m\u001b[0;34m)\u001b[0m                                 \u001b[0;31m# we are counting the number of ocurrences per char.\u001b[0m\u001b[0;34m\u001b[0m\u001b[0;34m\u001b[0m\u001b[0m\n\u001b[0;32m----> 6\u001b[0;31m     \u001b[0;32mfor\u001b[0m \u001b[0mi\u001b[0m \u001b[0;32min\u001b[0m \u001b[0mrange\u001b[0m\u001b[0;34m(\u001b[0m\u001b[0mlen\u001b[0m\u001b[0;34m(\u001b[0m\u001b[0mstring\u001b[0m\u001b[0;34m)\u001b[0m\u001b[0;34m)\u001b[0m\u001b[0;34m:\u001b[0m                         \u001b[0;31m# because we know these are of equal length,\u001b[0m\u001b[0;34m\u001b[0m\u001b[0;34m\u001b[0m\u001b[0m\n\u001b[0m\u001b[1;32m      7\u001b[0m         \u001b[0;32mif\u001b[0m \u001b[0mstring_a\u001b[0m\u001b[0;34m[\u001b[0m\u001b[0mi\u001b[0m\u001b[0;34m]\u001b[0m \u001b[0;32mnot\u001b[0m \u001b[0;32min\u001b[0m \u001b[0mchar_times_a\u001b[0m\u001b[0;34m.\u001b[0m\u001b[0mkeys\u001b[0m\u001b[0;34m(\u001b[0m\u001b[0;34m)\u001b[0m\u001b[0;34m:\u001b[0m        \u001b[0;31m# Because we know these are of equal len\u001b[0m\u001b[0;34m\u001b[0m\u001b[0;34m\u001b[0m\u001b[0m\n\u001b[1;32m      8\u001b[0m             \u001b[0mchar_times_a\u001b[0m\u001b[0;34m[\u001b[0m\u001b[0mstring_a\u001b[0m\u001b[0;34m[\u001b[0m\u001b[0mi\u001b[0m\u001b[0;34m]\u001b[0m\u001b[0;34m]\u001b[0m \u001b[0;34m+=\u001b[0m \u001b[0;36m0\u001b[0m                 \u001b[0;31m# we can simply count how many times we see each char.\u001b[0m\u001b[0;34m\u001b[0m\u001b[0;34m\u001b[0m\u001b[0m\n",
      "\u001b[0;31mNameError\u001b[0m: name 'string' is not defined"
     ]
    }
   ],
   "source": [
    "is_anagram(\"cars\",\"scar\") "
   ]
  },
  {
   "cell_type": "code",
   "execution_count": null,
   "id": "260f44a9",
   "metadata": {},
   "outputs": [],
   "source": [
    "def is_anagram(string_a, string_b):\n",
    "    string_a = string_a.replace(\" \",\" \")\n",
    "    string_b = string_b.lower(\" \",\" \")\n",
    "    if len(string_a) != len(string_b):                     #covering the lenght case\n",
    "        return False \n",
    "    string_a = string_a.replace()\n",
    "    string_b = string_b.lower()                                                 # Simple edge case.\n",
    "    char_times_a = dict()                                  # Let's use two dictionaries to count\n",
    "    char_times_b = dict()                                  # we are counting the number of ocurrences per char.\n",
    "    for i in range(len(string_a)):                           # because we know these are of equal length,\n",
    "        if string_a[i] not in char_times_a.keys():         # Because we know these are of equal len\n",
    "            char_times_a[string_a[i]] = 0                  # we can simply count how many times we see each char.\n",
    "        else: \n",
    "            char_times_a[string_a[i]] += 1           \n",
    "        if string_b[i] not in char_times_b.keys(): \n",
    "            char_times_b[string_b[i]] = 0\n",
    "        else:\n",
    "            char_times_b[string_b[i]] += 1                # It doesn't matter that thee are accesing different chars \n",
    "    return char_times_a == char_times_b                   # that i is accessing as long as the final return statement is \n",
    "                                                          #equal.\n"
   ]
  },
  {
   "cell_type": "code",
   "execution_count": null,
   "id": "1d63c5b2",
   "metadata": {},
   "outputs": [],
   "source": [
    "is_anagram(\"cars\",\"scar\")"
   ]
  },
  {
   "cell_type": "code",
   "execution_count": 1,
   "id": "fc20a93c",
   "metadata": {},
   "outputs": [
    {
     "ename": "NameError",
     "evalue": "name 'is_anagram' is not defined",
     "output_type": "error",
     "traceback": [
      "\u001b[0;31m---------------------------------------------------------------------------\u001b[0m",
      "\u001b[0;31mNameError\u001b[0m                                 Traceback (most recent call last)",
      "\u001b[0;32m<ipython-input-1-b58299983daa>\u001b[0m in \u001b[0;36m<module>\u001b[0;34m\u001b[0m\n\u001b[0;32m----> 1\u001b[0;31m \u001b[0mis_anagram\u001b[0m\u001b[0;34m(\u001b[0m\u001b[0;34m\"I am lord Voldemort\"\u001b[0m\u001b[0;34m,\u001b[0m \u001b[0;34m\"Tom marvolo Riddle \"\u001b[0m\u001b[0;34m)\u001b[0m\u001b[0;34m\u001b[0m\u001b[0;34m\u001b[0m\u001b[0m\n\u001b[0m",
      "\u001b[0;31mNameError\u001b[0m: name 'is_anagram' is not defined"
     ]
    }
   ],
   "source": [
    "is_anagram(\"I am lord Voldemort\", \"Tom marvolo Riddle \")"
   ]
  },
  {
   "cell_type": "code",
   "execution_count": null,
   "id": "9a776b5b",
   "metadata": {},
   "outputs": [],
   "source": []
  },
  {
   "cell_type": "code",
   "execution_count": null,
   "id": "78c1e6df",
   "metadata": {},
   "outputs": [],
   "source": [
    "z"
   ]
  }
 ],
 "metadata": {
  "kernelspec": {
   "display_name": "Python 3",
   "language": "python",
   "name": "python3"
  },
  "language_info": {
   "codemirror_mode": {
    "name": "ipython",
    "version": 3
   },
   "file_extension": ".py",
   "mimetype": "text/x-python",
   "name": "python",
   "nbconvert_exporter": "python",
   "pygments_lexer": "ipython3",
   "version": "3.6.9"
  }
 },
 "nbformat": 4,
 "nbformat_minor": 5
}
