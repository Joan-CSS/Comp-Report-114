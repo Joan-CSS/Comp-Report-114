{
 "cells": [
  {
   "cell_type": "code",
   "execution_count": 2,
   "id": "29197e29",
   "metadata": {},
   "outputs": [],
   "source": [
    "# Coding challenges\n",
    "\n",
    "#Solve the following coding challenges:\n",
    "\n",
    "#1. Given a string, write a function that uses recursion to reverse it.\n",
    "\n",
    "#2. Given a list of integers, write a function that will return a list, in which for each index the element will be the product of all the integers except for the element at that index.\n",
    "\n",
    "#For example, an input of [1, 2, 3, 4] would return [24, 12, 8, 6] by performing [2x3x4, 1x3x4, 1x2x4, 1x2x3].\n",
    "\n",
    "#You cannot use division in your answer! Meaning you can't simply multiply all the numbers and then divide by each element for each index!"
   ]
  },
  {
   "cell_type": "code",
   "execution_count": 19,
   "id": "b2c15f31",
   "metadata": {},
   "outputs": [],
   "source": [
    "# function(string mystring):\n",
    "#    check if mystring is empty\n",
    "#  if the length of my string is 1:\n",
    "#   return mystring\n",
    "#   else:\n",
    "#        taking the last character and add it to the result of this function  called itself \n",
    "\n",
    "def reverse(mystring):\n",
    "    if len(mystring) == 1:\n",
    "        return mystring\n",
    "    last_char = mystring[len(mystring)-1]\n",
    "    return last_char + reverse(mystring[:-1])\n"
   ]
  },
  {
   "cell_type": "code",
   "execution_count": 20,
   "id": "1663e8b2",
   "metadata": {},
   "outputs": [
    {
     "name": "stdout",
     "output_type": "stream",
     "text": [
      "leafar\n"
     ]
    }
   ],
   "source": [
    "print(reverse(\"rafael\"))"
   ]
  },
  {
   "cell_type": "code",
   "execution_count": 23,
   "id": "f5317c74",
   "metadata": {},
   "outputs": [],
   "source": [
    "# function(list numbers):\n",
    "#    list mynewlist = []\n",
    "#    for each index in numbers:\n",
    "#        add 1 o mynewlist\n",
    "#      for each index2 in numbers:\n",
    "#          if index and index2 are different:\n",
    "#                mynewlist[index] = my newlist[index]*mynewlist[index2]\n",
    "#  return mynewlist\n",
    "def products(numbers):                           # numbers = [1, 2 , 3 , 4]\n",
    "    mynewlist = []                                 \n",
    "    for index in range(len(numbers)):           # index = 0          \n",
    "        mynewlist.append(1)                     # mynewlist = [24. 1 ]\n",
    "        for index2 in range(len(numbers)):      # index2 = 0\n",
    "            if index != index2:                     #\n",
    "                mynewlist[index] *= numbers[index2]  # mynew;ost[0] = ((1*2)*3)\n",
    "    return mynewlist"
   ]
  },
  {
   "cell_type": "code",
   "execution_count": 24,
   "id": "00aa1d0f",
   "metadata": {},
   "outputs": [
    {
     "name": "stdout",
     "output_type": "stream",
     "text": [
      "[24, 12, 8, 6]\n"
     ]
    }
   ],
   "source": [
    "print(products([1, 2 , 3 , 4]))"
   ]
  },
  {
   "cell_type": "code",
   "execution_count": 31,
   "id": "2a8bb66d",
   "metadata": {},
   "outputs": [],
   "source": [
    "class Stack:\n",
    "    def __init__(self):\n",
    "        self.items = []\n",
    "\n",
    "    def is_empty(self):\n",
    "        return self.items == []\n",
    "    \n",
    "    def push(self,item):\n",
    "        self.items.append(item)\n",
    "        \n",
    "    def pop(self):\n",
    "        return self.items.pop()\n",
    "    \n",
    "    def peek(self):\n",
    "        return self.items[len(self.items)-1]\n",
    "    \n",
    "    def size(self):\n",
    "        return len(self.items)"
   ]
  },
  {
   "cell_type": "code",
   "execution_count": 36,
   "id": "db1cf66b",
   "metadata": {},
   "outputs": [],
   "source": [
    "def reverse_str(mystring):\n",
    "    stack = Stack()\n",
    "    new_string = \" \"\n",
    "    for letter in mystring:\n",
    "        stack.push(letter)\n",
    "    while not stack.is_empty():\n",
    "        new_string += stack.pop()\n",
    "    return new_string\n",
    "   "
   ]
  },
  {
   "cell_type": "code",
   "execution_count": 40,
   "id": "8724b5ef",
   "metadata": {},
   "outputs": [
    {
     "data": {
      "text/plain": [
       "' oinotna'"
      ]
     },
     "execution_count": 40,
     "metadata": {},
     "output_type": "execute_result"
    }
   ],
   "source": [
    "reverse_str(\"antonio\")"
   ]
  },
  {
   "cell_type": "code",
   "execution_count": 41,
   "id": "f954de3a",
   "metadata": {},
   "outputs": [],
   "source": [
    "class Queue:\n",
    "    def __init__(self):\n",
    "        self.items = []\n",
    "    \n",
    "    def is_empty(self):\n",
    "        return self.items == []\n",
    "    \n",
    "    def equeue(self, item):\n",
    "        self.items.insert(0, item)\n",
    "        \n",
    "    def dequeue(self):\n",
    "        returnself.items.pop()\n",
    "        \n",
    "    def size (self):\n",
    "        return len(self.items)"
   ]
  },
  {
   "cell_type": "code",
   "execution_count": 45,
   "id": "35b3ee33",
   "metadata": {},
   "outputs": [
    {
     "ename": "IndentationError",
     "evalue": "expected an indented block (<ipython-input-45-eb8ecaab50d9>, line 8)",
     "output_type": "error",
     "traceback": [
      "\u001b[0;36m  File \u001b[0;32m\"<ipython-input-45-eb8ecaab50d9>\"\u001b[0;36m, line \u001b[0;32m8\u001b[0m\n\u001b[0;31m    def service_costumers(visitors_queue):\u001b[0m\n\u001b[0m                                          ^\u001b[0m\n\u001b[0;31mIndentationError\u001b[0m\u001b[0;31m:\u001b[0m expected an indented block\n"
     ]
    }
   ],
   "source": [
    "from string import ascii_lowerscase\n",
    "from random import randint,choice\n",
    "from time import sleep\n",
    "\n",
    "def registrer_visitors(visitor_queue):\n",
    "    for char in ascii_lowercase:\n",
    "        \n",
    "def service_costumers(visitors_queue):\n",
    "    bank_tellers = [\"A\",\"B\",\"D\",\"E\",\"F\",\"G\"]\n",
    "    while not visitor_queue.enqueue(char)                        #make sure this works \n",
    "        visitor_queue.enqueue(char)                             # TODO: Deqeue a visitor  \n",
    "        \n",
    "        \n",
    "    print(\" Thanks for your waiting  \"\n",
    "        %(visitor,choice(bank_tellers)))\n",
    "    sleep(randhint(1,2))\n",
    "print(\"Empty visitor queue.\")\n",
    "\n",
    "\n",
    "def main():\n",
    "    visitor_queue = Queue()\n",
    "    register_visitors(visitors_queuse)              # This should populate our queue.\n",
    "    register_costumers(visitors_queue)"
   ]
  },
  {
   "cell_type": "code",
   "execution_count": null,
   "id": "724e5477",
   "metadata": {},
   "outputs": [],
   "source": []
  }
 ],
 "metadata": {
  "kernelspec": {
   "display_name": "Python 3",
   "language": "python",
   "name": "python3"
  },
  "language_info": {
   "codemirror_mode": {
    "name": "ipython",
    "version": 3
   },
   "file_extension": ".py",
   "mimetype": "text/x-python",
   "name": "python",
   "nbconvert_exporter": "python",
   "pygments_lexer": "ipython3",
   "version": "3.6.9"
  }
 },
 "nbformat": 4,
 "nbformat_minor": 5
}
